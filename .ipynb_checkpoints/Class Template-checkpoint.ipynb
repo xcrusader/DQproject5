{
 "cells": [
  {
   "cell_type": "raw",
   "metadata": {},
   "source": [
    "<script>\n",
    "  function code_toggle() {\n",
    "    if (code_shown){\n",
    "      $('div.input').hide('500');\n",
    "      $('#toggleButton').val('Show Code')\n",
    "    } else {\n",
    "      $('div.input').show('500');\n",
    "      $('#toggleButton').val('Hide Code')\n",
    "    }\n",
    "    code_shown = !code_shown\n",
    "  }\n",
    "\n",
    "  $( document ).ready(function(){\n",
    "    code_shown=false;\n",
    "    $('div.input').hide()\n",
    "  });\n",
    "</script>\n",
    "<form action=\"javascript:code_toggle()\"><input type=\"submit\" id=\"toggleButton\" value=\"Show Code\"></form>"
   ]
  },
  {
   "cell_type": "markdown",
   "metadata": {},
   "source": [
    "# Index"
   ]
  },
  {
   "cell_type": "markdown",
   "metadata": {},
   "source": [
    "- [1 Introduction](#1)\n",
    "- [2 Title](#2)\n",
    "- [3 Title](#3)\n",
    "- [4 Title](#4)\n",
    "- [5 Title](#5)\n",
    "- [6 Title](#6)\n",
    "- [7 Title](#7)\n",
    "- [8 Title](#8)\n",
    "- [9 Title](#9)\n",
    "- [10 Title](#10)\n",
    "- [11 Title](#11)\n",
    "- [12 Title](#12)\n",
    "- [13 Title](#13)\n",
    "- [14 Title](#14)\n",
    "- [15 Next Steps](#15)\n",
    "- [16 Conclusions](#21)"
   ]
  },
  {
   "cell_type": "markdown",
   "metadata": {},
   "source": [
    "# 1"
   ]
  },
  {
   "cell_type": "markdown",
   "metadata": {},
   "source": [
    "## Introduction"
   ]
  },
  {
   "cell_type": "markdown",
   "metadata": {},
   "source": []
  },
  {
   "cell_type": "markdown",
   "metadata": {},
   "source": [
    "instructions\n",
    "\n"
   ]
  },
  {
   "cell_type": "code",
   "execution_count": 75,
   "metadata": {
    "scrolled": false
   },
   "outputs": [
    {
     "data": {
      "text/html": [
       "<div>\n",
       "<style scoped>\n",
       "    .dataframe tbody tr th:only-of-type {\n",
       "        vertical-align: middle;\n",
       "    }\n",
       "\n",
       "    .dataframe tbody tr th {\n",
       "        vertical-align: top;\n",
       "    }\n",
       "\n",
       "    .dataframe thead th {\n",
       "        text-align: right;\n",
       "    }\n",
       "</style>\n",
       "<table border=\"1\" class=\"dataframe\">\n",
       "  <thead>\n",
       "    <tr style=\"text-align: right;\">\n",
       "      <th></th>\n",
       "      <th>Period\\Unit:</th>\n",
       "      <th>[Australian dollar ]</th>\n",
       "      <th>[Bulgarian lev ]</th>\n",
       "      <th>[Brazilian real ]</th>\n",
       "      <th>[Canadian dollar ]</th>\n",
       "      <th>[Swiss franc ]</th>\n",
       "      <th>[Chinese yuan renminbi ]</th>\n",
       "      <th>[Cypriot pound ]</th>\n",
       "      <th>[Czech koruna ]</th>\n",
       "      <th>[Danish krone ]</th>\n",
       "      <th>...</th>\n",
       "      <th>[Romanian leu ]</th>\n",
       "      <th>[Russian rouble ]</th>\n",
       "      <th>[Swedish krona ]</th>\n",
       "      <th>[Singapore dollar ]</th>\n",
       "      <th>[Slovenian tolar ]</th>\n",
       "      <th>[Slovak koruna ]</th>\n",
       "      <th>[Thai baht ]</th>\n",
       "      <th>[Turkish lira ]</th>\n",
       "      <th>[US dollar ]</th>\n",
       "      <th>[South African rand ]</th>\n",
       "    </tr>\n",
       "  </thead>\n",
       "  <tbody>\n",
       "    <tr>\n",
       "      <th>0</th>\n",
       "      <td>2021-01-08</td>\n",
       "      <td>1.5758</td>\n",
       "      <td>1.9558</td>\n",
       "      <td>6.5748</td>\n",
       "      <td>1.5543</td>\n",
       "      <td>1.0827</td>\n",
       "      <td>7.9184</td>\n",
       "      <td>NaN</td>\n",
       "      <td>26.163</td>\n",
       "      <td>7.4369</td>\n",
       "      <td>...</td>\n",
       "      <td>4.8708</td>\n",
       "      <td>90.8000</td>\n",
       "      <td>10.0510</td>\n",
       "      <td>1.6228</td>\n",
       "      <td>NaN</td>\n",
       "      <td>NaN</td>\n",
       "      <td>36.8480</td>\n",
       "      <td>9.0146</td>\n",
       "      <td>1.2250</td>\n",
       "      <td>18.7212</td>\n",
       "    </tr>\n",
       "    <tr>\n",
       "      <th>1</th>\n",
       "      <td>2021-01-07</td>\n",
       "      <td>1.5836</td>\n",
       "      <td>1.9558</td>\n",
       "      <td>6.5172</td>\n",
       "      <td>1.5601</td>\n",
       "      <td>1.0833</td>\n",
       "      <td>7.9392</td>\n",
       "      <td>NaN</td>\n",
       "      <td>26.147</td>\n",
       "      <td>7.4392</td>\n",
       "      <td>...</td>\n",
       "      <td>4.8712</td>\n",
       "      <td>91.2000</td>\n",
       "      <td>10.0575</td>\n",
       "      <td>1.6253</td>\n",
       "      <td>NaN</td>\n",
       "      <td>NaN</td>\n",
       "      <td>36.8590</td>\n",
       "      <td>8.9987</td>\n",
       "      <td>1.2276</td>\n",
       "      <td>18.7919</td>\n",
       "    </tr>\n",
       "    <tr>\n",
       "      <th>2</th>\n",
       "      <td>2021-01-06</td>\n",
       "      <td>1.5824</td>\n",
       "      <td>1.9558</td>\n",
       "      <td>6.5119</td>\n",
       "      <td>1.5640</td>\n",
       "      <td>1.0821</td>\n",
       "      <td>7.9653</td>\n",
       "      <td>NaN</td>\n",
       "      <td>26.145</td>\n",
       "      <td>7.4393</td>\n",
       "      <td>...</td>\n",
       "      <td>4.8720</td>\n",
       "      <td>90.8175</td>\n",
       "      <td>10.0653</td>\n",
       "      <td>1.6246</td>\n",
       "      <td>NaN</td>\n",
       "      <td>NaN</td>\n",
       "      <td>36.9210</td>\n",
       "      <td>9.0554</td>\n",
       "      <td>1.2338</td>\n",
       "      <td>18.5123</td>\n",
       "    </tr>\n",
       "    <tr>\n",
       "      <th>3</th>\n",
       "      <td>2021-01-05</td>\n",
       "      <td>1.5927</td>\n",
       "      <td>1.9558</td>\n",
       "      <td>6.5517</td>\n",
       "      <td>1.5651</td>\n",
       "      <td>1.0803</td>\n",
       "      <td>7.9315</td>\n",
       "      <td>NaN</td>\n",
       "      <td>26.227</td>\n",
       "      <td>7.4387</td>\n",
       "      <td>...</td>\n",
       "      <td>4.8721</td>\n",
       "      <td>91.6715</td>\n",
       "      <td>10.0570</td>\n",
       "      <td>1.6180</td>\n",
       "      <td>NaN</td>\n",
       "      <td>NaN</td>\n",
       "      <td>36.7760</td>\n",
       "      <td>9.0694</td>\n",
       "      <td>1.2271</td>\n",
       "      <td>18.4194</td>\n",
       "    </tr>\n",
       "    <tr>\n",
       "      <th>4</th>\n",
       "      <td>2021-01-04</td>\n",
       "      <td>1.5928</td>\n",
       "      <td>1.9558</td>\n",
       "      <td>6.3241</td>\n",
       "      <td>1.5621</td>\n",
       "      <td>1.0811</td>\n",
       "      <td>7.9484</td>\n",
       "      <td>NaN</td>\n",
       "      <td>26.141</td>\n",
       "      <td>7.4379</td>\n",
       "      <td>...</td>\n",
       "      <td>4.8713</td>\n",
       "      <td>90.3420</td>\n",
       "      <td>10.0895</td>\n",
       "      <td>1.6198</td>\n",
       "      <td>NaN</td>\n",
       "      <td>NaN</td>\n",
       "      <td>36.7280</td>\n",
       "      <td>9.0579</td>\n",
       "      <td>1.2296</td>\n",
       "      <td>17.9214</td>\n",
       "    </tr>\n",
       "    <tr>\n",
       "      <th>...</th>\n",
       "      <td>...</td>\n",
       "      <td>...</td>\n",
       "      <td>...</td>\n",
       "      <td>...</td>\n",
       "      <td>...</td>\n",
       "      <td>...</td>\n",
       "      <td>...</td>\n",
       "      <td>...</td>\n",
       "      <td>...</td>\n",
       "      <td>...</td>\n",
       "      <td>...</td>\n",
       "      <td>...</td>\n",
       "      <td>...</td>\n",
       "      <td>...</td>\n",
       "      <td>...</td>\n",
       "      <td>...</td>\n",
       "      <td>...</td>\n",
       "      <td>...</td>\n",
       "      <td>...</td>\n",
       "      <td>...</td>\n",
       "      <td>...</td>\n",
       "    </tr>\n",
       "    <tr>\n",
       "      <th>5694</th>\n",
       "      <td>1999-01-08</td>\n",
       "      <td>1.8406</td>\n",
       "      <td>NaN</td>\n",
       "      <td>NaN</td>\n",
       "      <td>1.7643</td>\n",
       "      <td>1.6138</td>\n",
       "      <td>NaN</td>\n",
       "      <td>0.58187</td>\n",
       "      <td>34.938</td>\n",
       "      <td>7.4433</td>\n",
       "      <td>...</td>\n",
       "      <td>1.3143</td>\n",
       "      <td>27.2075</td>\n",
       "      <td>9.1650</td>\n",
       "      <td>1.9537</td>\n",
       "      <td>188.8400</td>\n",
       "      <td>42.560</td>\n",
       "      <td>42.5590</td>\n",
       "      <td>0.3718</td>\n",
       "      <td>1.1659</td>\n",
       "      <td>6.7855</td>\n",
       "    </tr>\n",
       "    <tr>\n",
       "      <th>5695</th>\n",
       "      <td>1999-01-07</td>\n",
       "      <td>1.8474</td>\n",
       "      <td>NaN</td>\n",
       "      <td>NaN</td>\n",
       "      <td>1.7602</td>\n",
       "      <td>1.6165</td>\n",
       "      <td>NaN</td>\n",
       "      <td>0.58187</td>\n",
       "      <td>34.886</td>\n",
       "      <td>7.4431</td>\n",
       "      <td>...</td>\n",
       "      <td>1.3092</td>\n",
       "      <td>26.9876</td>\n",
       "      <td>9.1800</td>\n",
       "      <td>1.9436</td>\n",
       "      <td>188.8000</td>\n",
       "      <td>42.765</td>\n",
       "      <td>42.1678</td>\n",
       "      <td>0.3701</td>\n",
       "      <td>1.1632</td>\n",
       "      <td>6.8283</td>\n",
       "    </tr>\n",
       "    <tr>\n",
       "      <th>5696</th>\n",
       "      <td>1999-01-06</td>\n",
       "      <td>1.8820</td>\n",
       "      <td>NaN</td>\n",
       "      <td>NaN</td>\n",
       "      <td>1.7711</td>\n",
       "      <td>1.6116</td>\n",
       "      <td>NaN</td>\n",
       "      <td>0.58200</td>\n",
       "      <td>34.850</td>\n",
       "      <td>7.4452</td>\n",
       "      <td>...</td>\n",
       "      <td>1.3168</td>\n",
       "      <td>27.4315</td>\n",
       "      <td>9.3050</td>\n",
       "      <td>1.9699</td>\n",
       "      <td>188.7000</td>\n",
       "      <td>42.778</td>\n",
       "      <td>42.6949</td>\n",
       "      <td>0.3722</td>\n",
       "      <td>1.1743</td>\n",
       "      <td>6.7307</td>\n",
       "    </tr>\n",
       "    <tr>\n",
       "      <th>5697</th>\n",
       "      <td>1999-01-05</td>\n",
       "      <td>1.8944</td>\n",
       "      <td>NaN</td>\n",
       "      <td>NaN</td>\n",
       "      <td>1.7965</td>\n",
       "      <td>1.6123</td>\n",
       "      <td>NaN</td>\n",
       "      <td>0.58230</td>\n",
       "      <td>34.917</td>\n",
       "      <td>7.4495</td>\n",
       "      <td>...</td>\n",
       "      <td>1.3168</td>\n",
       "      <td>26.5876</td>\n",
       "      <td>9.4025</td>\n",
       "      <td>1.9655</td>\n",
       "      <td>188.7750</td>\n",
       "      <td>42.848</td>\n",
       "      <td>42.5048</td>\n",
       "      <td>0.3728</td>\n",
       "      <td>1.1790</td>\n",
       "      <td>6.7975</td>\n",
       "    </tr>\n",
       "    <tr>\n",
       "      <th>5698</th>\n",
       "      <td>1999-01-04</td>\n",
       "      <td>1.9100</td>\n",
       "      <td>NaN</td>\n",
       "      <td>NaN</td>\n",
       "      <td>1.8004</td>\n",
       "      <td>1.6168</td>\n",
       "      <td>NaN</td>\n",
       "      <td>0.58231</td>\n",
       "      <td>35.107</td>\n",
       "      <td>7.4501</td>\n",
       "      <td>...</td>\n",
       "      <td>1.3111</td>\n",
       "      <td>25.2875</td>\n",
       "      <td>9.4696</td>\n",
       "      <td>1.9554</td>\n",
       "      <td>189.0450</td>\n",
       "      <td>42.991</td>\n",
       "      <td>42.6799</td>\n",
       "      <td>0.3723</td>\n",
       "      <td>1.1789</td>\n",
       "      <td>6.9358</td>\n",
       "    </tr>\n",
       "  </tbody>\n",
       "</table>\n",
       "<p>5699 rows × 41 columns</p>\n",
       "</div>"
      ],
      "text/plain": [
       "     Period\\Unit: [Australian dollar ] [Bulgarian lev ] [Brazilian real ]  \\\n",
       "0      2021-01-08               1.5758           1.9558            6.5748   \n",
       "1      2021-01-07               1.5836           1.9558            6.5172   \n",
       "2      2021-01-06               1.5824           1.9558            6.5119   \n",
       "3      2021-01-05               1.5927           1.9558            6.5517   \n",
       "4      2021-01-04               1.5928           1.9558            6.3241   \n",
       "...           ...                  ...              ...               ...   \n",
       "5694   1999-01-08               1.8406              NaN               NaN   \n",
       "5695   1999-01-07               1.8474              NaN               NaN   \n",
       "5696   1999-01-06               1.8820              NaN               NaN   \n",
       "5697   1999-01-05               1.8944              NaN               NaN   \n",
       "5698   1999-01-04               1.9100              NaN               NaN   \n",
       "\n",
       "     [Canadian dollar ] [Swiss franc ] [Chinese yuan renminbi ]  \\\n",
       "0                1.5543         1.0827                   7.9184   \n",
       "1                1.5601         1.0833                   7.9392   \n",
       "2                1.5640         1.0821                   7.9653   \n",
       "3                1.5651         1.0803                   7.9315   \n",
       "4                1.5621         1.0811                   7.9484   \n",
       "...                 ...            ...                      ...   \n",
       "5694             1.7643         1.6138                      NaN   \n",
       "5695             1.7602         1.6165                      NaN   \n",
       "5696             1.7711         1.6116                      NaN   \n",
       "5697             1.7965         1.6123                      NaN   \n",
       "5698             1.8004         1.6168                      NaN   \n",
       "\n",
       "     [Cypriot pound ] [Czech koruna ] [Danish krone ]  ... [Romanian leu ]  \\\n",
       "0                 NaN          26.163          7.4369  ...          4.8708   \n",
       "1                 NaN          26.147          7.4392  ...          4.8712   \n",
       "2                 NaN          26.145          7.4393  ...          4.8720   \n",
       "3                 NaN          26.227          7.4387  ...          4.8721   \n",
       "4                 NaN          26.141          7.4379  ...          4.8713   \n",
       "...               ...             ...             ...  ...             ...   \n",
       "5694          0.58187          34.938          7.4433  ...          1.3143   \n",
       "5695          0.58187          34.886          7.4431  ...          1.3092   \n",
       "5696          0.58200          34.850          7.4452  ...          1.3168   \n",
       "5697          0.58230          34.917          7.4495  ...          1.3168   \n",
       "5698          0.58231          35.107          7.4501  ...          1.3111   \n",
       "\n",
       "     [Russian rouble ] [Swedish krona ] [Singapore dollar ]  \\\n",
       "0              90.8000          10.0510              1.6228   \n",
       "1              91.2000          10.0575              1.6253   \n",
       "2              90.8175          10.0653              1.6246   \n",
       "3              91.6715          10.0570              1.6180   \n",
       "4              90.3420          10.0895              1.6198   \n",
       "...                ...              ...                 ...   \n",
       "5694           27.2075           9.1650              1.9537   \n",
       "5695           26.9876           9.1800              1.9436   \n",
       "5696           27.4315           9.3050              1.9699   \n",
       "5697           26.5876           9.4025              1.9655   \n",
       "5698           25.2875           9.4696              1.9554   \n",
       "\n",
       "     [Slovenian tolar ] [Slovak koruna ] [Thai baht ] [Turkish lira ]  \\\n",
       "0                   NaN              NaN      36.8480          9.0146   \n",
       "1                   NaN              NaN      36.8590          8.9987   \n",
       "2                   NaN              NaN      36.9210          9.0554   \n",
       "3                   NaN              NaN      36.7760          9.0694   \n",
       "4                   NaN              NaN      36.7280          9.0579   \n",
       "...                 ...              ...          ...             ...   \n",
       "5694           188.8400           42.560      42.5590          0.3718   \n",
       "5695           188.8000           42.765      42.1678          0.3701   \n",
       "5696           188.7000           42.778      42.6949          0.3722   \n",
       "5697           188.7750           42.848      42.5048          0.3728   \n",
       "5698           189.0450           42.991      42.6799          0.3723   \n",
       "\n",
       "     [US dollar ]  [South African rand ]  \n",
       "0          1.2250                18.7212  \n",
       "1          1.2276                18.7919  \n",
       "2          1.2338                18.5123  \n",
       "3          1.2271                18.4194  \n",
       "4          1.2296                17.9214  \n",
       "...           ...                    ...  \n",
       "5694       1.1659                 6.7855  \n",
       "5695       1.1632                 6.8283  \n",
       "5696       1.1743                 6.7307  \n",
       "5697       1.1790                 6.7975  \n",
       "5698       1.1789                 6.9358  \n",
       "\n",
       "[5699 rows x 41 columns]"
      ]
     },
     "execution_count": 75,
     "metadata": {},
     "output_type": "execute_result"
    }
   ],
   "source": [
    "%matplotlib inline\n",
    "import pandas as pd\n",
    "import matplotlib.pyplot as plt\n",
    "\n",
    "exchange_rates = pd.read_csv('euro-daily-hist_1999_2020.csv')\n",
    "exchange_rates"
   ]
  },
  {
   "cell_type": "code",
   "execution_count": 76,
   "metadata": {},
   "outputs": [
    {
     "data": {
      "text/plain": [
       "Index(['date', 'australian_dollar', 'bulgarian_lev', 'brazilian_real',\n",
       "       'canadian_dollar', 'swiss_franc', 'chinese_yuan_renminbi',\n",
       "       'cypriot_pound', 'czech_koruna', 'danish_krone', 'estonian_kroon',\n",
       "       'uk_pound_sterling', 'greek_drachma', 'hong_kong_dollar',\n",
       "       'croatian_kuna', 'hungarian_forint', 'indonesian_rupiah',\n",
       "       'israeli_shekel', 'indian_rupee', 'iceland_krona', 'japanese_yen',\n",
       "       'korean_won', 'lithuanian_litas', 'latvian_lats', 'maltese_lira',\n",
       "       'mexican_peso', 'malaysian_ringgit', 'norwegian_krone',\n",
       "       'new_zealand_dollar', 'philippine_peso', 'polish_zloty', 'romanian_leu',\n",
       "       'russian_rouble', 'swedish_krona', 'singapore_dollar',\n",
       "       'slovenian_tolar', 'slovak_koruna', 'thai_baht', 'turkish_lira',\n",
       "       'us_dollar', 'south_african_rand'],\n",
       "      dtype='object')"
      ]
     },
     "execution_count": 76,
     "metadata": {},
     "output_type": "execute_result"
    }
   ],
   "source": [
    "#Clean the column names\n",
    "exchange_rates.rename(columns = {\"Period\\\\Unit:\":\"dates\"},inplace = True)\n",
    "exchange_rates.columns = exchange_rates.columns.str.replace(' ', '_')\n",
    "exchange_rates.columns = exchange_rates.columns.str.replace('[\\[\\]]','',regex=True).str.lower()\n",
    "exchange_rates.columns = exchange_rates.columns.str[:-1]\n",
    "exchange_rates.columns"
   ]
  },
  {
   "cell_type": "code",
   "execution_count": 77,
   "metadata": {},
   "outputs": [
    {
     "data": {
      "text/html": [
       "<div>\n",
       "<style scoped>\n",
       "    .dataframe tbody tr th:only-of-type {\n",
       "        vertical-align: middle;\n",
       "    }\n",
       "\n",
       "    .dataframe tbody tr th {\n",
       "        vertical-align: top;\n",
       "    }\n",
       "\n",
       "    .dataframe thead th {\n",
       "        text-align: right;\n",
       "    }\n",
       "</style>\n",
       "<table border=\"1\" class=\"dataframe\">\n",
       "  <thead>\n",
       "    <tr style=\"text-align: right;\">\n",
       "      <th></th>\n",
       "      <th>date</th>\n",
       "      <th>australian_dollar</th>\n",
       "      <th>bulgarian_lev</th>\n",
       "      <th>brazilian_real</th>\n",
       "      <th>canadian_dollar</th>\n",
       "      <th>swiss_franc</th>\n",
       "      <th>chinese_yuan_renminbi</th>\n",
       "      <th>cypriot_pound</th>\n",
       "      <th>czech_koruna</th>\n",
       "      <th>danish_krone</th>\n",
       "      <th>...</th>\n",
       "      <th>romanian_leu</th>\n",
       "      <th>russian_rouble</th>\n",
       "      <th>swedish_krona</th>\n",
       "      <th>singapore_dollar</th>\n",
       "      <th>slovenian_tolar</th>\n",
       "      <th>slovak_koruna</th>\n",
       "      <th>thai_baht</th>\n",
       "      <th>turkish_lira</th>\n",
       "      <th>us_dollar</th>\n",
       "      <th>south_african_rand</th>\n",
       "    </tr>\n",
       "  </thead>\n",
       "  <tbody>\n",
       "    <tr>\n",
       "      <th>0</th>\n",
       "      <td>1999-01-04</td>\n",
       "      <td>1.9100</td>\n",
       "      <td>NaN</td>\n",
       "      <td>NaN</td>\n",
       "      <td>1.8004</td>\n",
       "      <td>1.6168</td>\n",
       "      <td>NaN</td>\n",
       "      <td>0.58231</td>\n",
       "      <td>35.107</td>\n",
       "      <td>7.4501</td>\n",
       "      <td>...</td>\n",
       "      <td>1.3111</td>\n",
       "      <td>25.2875</td>\n",
       "      <td>9.4696</td>\n",
       "      <td>1.9554</td>\n",
       "      <td>189.0450</td>\n",
       "      <td>42.991</td>\n",
       "      <td>42.6799</td>\n",
       "      <td>0.3723</td>\n",
       "      <td>1.1789</td>\n",
       "      <td>6.9358</td>\n",
       "    </tr>\n",
       "    <tr>\n",
       "      <th>1</th>\n",
       "      <td>1999-01-05</td>\n",
       "      <td>1.8944</td>\n",
       "      <td>NaN</td>\n",
       "      <td>NaN</td>\n",
       "      <td>1.7965</td>\n",
       "      <td>1.6123</td>\n",
       "      <td>NaN</td>\n",
       "      <td>0.58230</td>\n",
       "      <td>34.917</td>\n",
       "      <td>7.4495</td>\n",
       "      <td>...</td>\n",
       "      <td>1.3168</td>\n",
       "      <td>26.5876</td>\n",
       "      <td>9.4025</td>\n",
       "      <td>1.9655</td>\n",
       "      <td>188.7750</td>\n",
       "      <td>42.848</td>\n",
       "      <td>42.5048</td>\n",
       "      <td>0.3728</td>\n",
       "      <td>1.1790</td>\n",
       "      <td>6.7975</td>\n",
       "    </tr>\n",
       "    <tr>\n",
       "      <th>2</th>\n",
       "      <td>1999-01-06</td>\n",
       "      <td>1.8820</td>\n",
       "      <td>NaN</td>\n",
       "      <td>NaN</td>\n",
       "      <td>1.7711</td>\n",
       "      <td>1.6116</td>\n",
       "      <td>NaN</td>\n",
       "      <td>0.58200</td>\n",
       "      <td>34.850</td>\n",
       "      <td>7.4452</td>\n",
       "      <td>...</td>\n",
       "      <td>1.3168</td>\n",
       "      <td>27.4315</td>\n",
       "      <td>9.3050</td>\n",
       "      <td>1.9699</td>\n",
       "      <td>188.7000</td>\n",
       "      <td>42.778</td>\n",
       "      <td>42.6949</td>\n",
       "      <td>0.3722</td>\n",
       "      <td>1.1743</td>\n",
       "      <td>6.7307</td>\n",
       "    </tr>\n",
       "    <tr>\n",
       "      <th>3</th>\n",
       "      <td>1999-01-07</td>\n",
       "      <td>1.8474</td>\n",
       "      <td>NaN</td>\n",
       "      <td>NaN</td>\n",
       "      <td>1.7602</td>\n",
       "      <td>1.6165</td>\n",
       "      <td>NaN</td>\n",
       "      <td>0.58187</td>\n",
       "      <td>34.886</td>\n",
       "      <td>7.4431</td>\n",
       "      <td>...</td>\n",
       "      <td>1.3092</td>\n",
       "      <td>26.9876</td>\n",
       "      <td>9.1800</td>\n",
       "      <td>1.9436</td>\n",
       "      <td>188.8000</td>\n",
       "      <td>42.765</td>\n",
       "      <td>42.1678</td>\n",
       "      <td>0.3701</td>\n",
       "      <td>1.1632</td>\n",
       "      <td>6.8283</td>\n",
       "    </tr>\n",
       "    <tr>\n",
       "      <th>4</th>\n",
       "      <td>1999-01-08</td>\n",
       "      <td>1.8406</td>\n",
       "      <td>NaN</td>\n",
       "      <td>NaN</td>\n",
       "      <td>1.7643</td>\n",
       "      <td>1.6138</td>\n",
       "      <td>NaN</td>\n",
       "      <td>0.58187</td>\n",
       "      <td>34.938</td>\n",
       "      <td>7.4433</td>\n",
       "      <td>...</td>\n",
       "      <td>1.3143</td>\n",
       "      <td>27.2075</td>\n",
       "      <td>9.1650</td>\n",
       "      <td>1.9537</td>\n",
       "      <td>188.8400</td>\n",
       "      <td>42.560</td>\n",
       "      <td>42.5590</td>\n",
       "      <td>0.3718</td>\n",
       "      <td>1.1659</td>\n",
       "      <td>6.7855</td>\n",
       "    </tr>\n",
       "    <tr>\n",
       "      <th>...</th>\n",
       "      <td>...</td>\n",
       "      <td>...</td>\n",
       "      <td>...</td>\n",
       "      <td>...</td>\n",
       "      <td>...</td>\n",
       "      <td>...</td>\n",
       "      <td>...</td>\n",
       "      <td>...</td>\n",
       "      <td>...</td>\n",
       "      <td>...</td>\n",
       "      <td>...</td>\n",
       "      <td>...</td>\n",
       "      <td>...</td>\n",
       "      <td>...</td>\n",
       "      <td>...</td>\n",
       "      <td>...</td>\n",
       "      <td>...</td>\n",
       "      <td>...</td>\n",
       "      <td>...</td>\n",
       "      <td>...</td>\n",
       "      <td>...</td>\n",
       "    </tr>\n",
       "    <tr>\n",
       "      <th>5694</th>\n",
       "      <td>2021-01-04</td>\n",
       "      <td>1.5928</td>\n",
       "      <td>1.9558</td>\n",
       "      <td>6.3241</td>\n",
       "      <td>1.5621</td>\n",
       "      <td>1.0811</td>\n",
       "      <td>7.9484</td>\n",
       "      <td>NaN</td>\n",
       "      <td>26.141</td>\n",
       "      <td>7.4379</td>\n",
       "      <td>...</td>\n",
       "      <td>4.8713</td>\n",
       "      <td>90.3420</td>\n",
       "      <td>10.0895</td>\n",
       "      <td>1.6198</td>\n",
       "      <td>NaN</td>\n",
       "      <td>NaN</td>\n",
       "      <td>36.7280</td>\n",
       "      <td>9.0579</td>\n",
       "      <td>1.2296</td>\n",
       "      <td>17.9214</td>\n",
       "    </tr>\n",
       "    <tr>\n",
       "      <th>5695</th>\n",
       "      <td>2021-01-05</td>\n",
       "      <td>1.5927</td>\n",
       "      <td>1.9558</td>\n",
       "      <td>6.5517</td>\n",
       "      <td>1.5651</td>\n",
       "      <td>1.0803</td>\n",
       "      <td>7.9315</td>\n",
       "      <td>NaN</td>\n",
       "      <td>26.227</td>\n",
       "      <td>7.4387</td>\n",
       "      <td>...</td>\n",
       "      <td>4.8721</td>\n",
       "      <td>91.6715</td>\n",
       "      <td>10.0570</td>\n",
       "      <td>1.6180</td>\n",
       "      <td>NaN</td>\n",
       "      <td>NaN</td>\n",
       "      <td>36.7760</td>\n",
       "      <td>9.0694</td>\n",
       "      <td>1.2271</td>\n",
       "      <td>18.4194</td>\n",
       "    </tr>\n",
       "    <tr>\n",
       "      <th>5696</th>\n",
       "      <td>2021-01-06</td>\n",
       "      <td>1.5824</td>\n",
       "      <td>1.9558</td>\n",
       "      <td>6.5119</td>\n",
       "      <td>1.5640</td>\n",
       "      <td>1.0821</td>\n",
       "      <td>7.9653</td>\n",
       "      <td>NaN</td>\n",
       "      <td>26.145</td>\n",
       "      <td>7.4393</td>\n",
       "      <td>...</td>\n",
       "      <td>4.8720</td>\n",
       "      <td>90.8175</td>\n",
       "      <td>10.0653</td>\n",
       "      <td>1.6246</td>\n",
       "      <td>NaN</td>\n",
       "      <td>NaN</td>\n",
       "      <td>36.9210</td>\n",
       "      <td>9.0554</td>\n",
       "      <td>1.2338</td>\n",
       "      <td>18.5123</td>\n",
       "    </tr>\n",
       "    <tr>\n",
       "      <th>5697</th>\n",
       "      <td>2021-01-07</td>\n",
       "      <td>1.5836</td>\n",
       "      <td>1.9558</td>\n",
       "      <td>6.5172</td>\n",
       "      <td>1.5601</td>\n",
       "      <td>1.0833</td>\n",
       "      <td>7.9392</td>\n",
       "      <td>NaN</td>\n",
       "      <td>26.147</td>\n",
       "      <td>7.4392</td>\n",
       "      <td>...</td>\n",
       "      <td>4.8712</td>\n",
       "      <td>91.2000</td>\n",
       "      <td>10.0575</td>\n",
       "      <td>1.6253</td>\n",
       "      <td>NaN</td>\n",
       "      <td>NaN</td>\n",
       "      <td>36.8590</td>\n",
       "      <td>8.9987</td>\n",
       "      <td>1.2276</td>\n",
       "      <td>18.7919</td>\n",
       "    </tr>\n",
       "    <tr>\n",
       "      <th>5698</th>\n",
       "      <td>2021-01-08</td>\n",
       "      <td>1.5758</td>\n",
       "      <td>1.9558</td>\n",
       "      <td>6.5748</td>\n",
       "      <td>1.5543</td>\n",
       "      <td>1.0827</td>\n",
       "      <td>7.9184</td>\n",
       "      <td>NaN</td>\n",
       "      <td>26.163</td>\n",
       "      <td>7.4369</td>\n",
       "      <td>...</td>\n",
       "      <td>4.8708</td>\n",
       "      <td>90.8000</td>\n",
       "      <td>10.0510</td>\n",
       "      <td>1.6228</td>\n",
       "      <td>NaN</td>\n",
       "      <td>NaN</td>\n",
       "      <td>36.8480</td>\n",
       "      <td>9.0146</td>\n",
       "      <td>1.2250</td>\n",
       "      <td>18.7212</td>\n",
       "    </tr>\n",
       "  </tbody>\n",
       "</table>\n",
       "<p>5699 rows × 41 columns</p>\n",
       "</div>"
      ],
      "text/plain": [
       "           date australian_dollar bulgarian_lev brazilian_real  \\\n",
       "0    1999-01-04            1.9100           NaN            NaN   \n",
       "1    1999-01-05            1.8944           NaN            NaN   \n",
       "2    1999-01-06            1.8820           NaN            NaN   \n",
       "3    1999-01-07            1.8474           NaN            NaN   \n",
       "4    1999-01-08            1.8406           NaN            NaN   \n",
       "...         ...               ...           ...            ...   \n",
       "5694 2021-01-04            1.5928        1.9558         6.3241   \n",
       "5695 2021-01-05            1.5927        1.9558         6.5517   \n",
       "5696 2021-01-06            1.5824        1.9558         6.5119   \n",
       "5697 2021-01-07            1.5836        1.9558         6.5172   \n",
       "5698 2021-01-08            1.5758        1.9558         6.5748   \n",
       "\n",
       "     canadian_dollar swiss_franc chinese_yuan_renminbi cypriot_pound  \\\n",
       "0             1.8004      1.6168                   NaN       0.58231   \n",
       "1             1.7965      1.6123                   NaN       0.58230   \n",
       "2             1.7711      1.6116                   NaN       0.58200   \n",
       "3             1.7602      1.6165                   NaN       0.58187   \n",
       "4             1.7643      1.6138                   NaN       0.58187   \n",
       "...              ...         ...                   ...           ...   \n",
       "5694          1.5621      1.0811                7.9484           NaN   \n",
       "5695          1.5651      1.0803                7.9315           NaN   \n",
       "5696          1.5640      1.0821                7.9653           NaN   \n",
       "5697          1.5601      1.0833                7.9392           NaN   \n",
       "5698          1.5543      1.0827                7.9184           NaN   \n",
       "\n",
       "     czech_koruna danish_krone  ... romanian_leu russian_rouble swedish_krona  \\\n",
       "0          35.107       7.4501  ...       1.3111        25.2875        9.4696   \n",
       "1          34.917       7.4495  ...       1.3168        26.5876        9.4025   \n",
       "2          34.850       7.4452  ...       1.3168        27.4315        9.3050   \n",
       "3          34.886       7.4431  ...       1.3092        26.9876        9.1800   \n",
       "4          34.938       7.4433  ...       1.3143        27.2075        9.1650   \n",
       "...           ...          ...  ...          ...            ...           ...   \n",
       "5694       26.141       7.4379  ...       4.8713        90.3420       10.0895   \n",
       "5695       26.227       7.4387  ...       4.8721        91.6715       10.0570   \n",
       "5696       26.145       7.4393  ...       4.8720        90.8175       10.0653   \n",
       "5697       26.147       7.4392  ...       4.8712        91.2000       10.0575   \n",
       "5698       26.163       7.4369  ...       4.8708        90.8000       10.0510   \n",
       "\n",
       "     singapore_dollar slovenian_tolar slovak_koruna thai_baht turkish_lira  \\\n",
       "0              1.9554        189.0450        42.991   42.6799       0.3723   \n",
       "1              1.9655        188.7750        42.848   42.5048       0.3728   \n",
       "2              1.9699        188.7000        42.778   42.6949       0.3722   \n",
       "3              1.9436        188.8000        42.765   42.1678       0.3701   \n",
       "4              1.9537        188.8400        42.560   42.5590       0.3718   \n",
       "...               ...             ...           ...       ...          ...   \n",
       "5694           1.6198             NaN           NaN   36.7280       9.0579   \n",
       "5695           1.6180             NaN           NaN   36.7760       9.0694   \n",
       "5696           1.6246             NaN           NaN   36.9210       9.0554   \n",
       "5697           1.6253             NaN           NaN   36.8590       8.9987   \n",
       "5698           1.6228             NaN           NaN   36.8480       9.0146   \n",
       "\n",
       "     us_dollar  south_african_rand  \n",
       "0       1.1789              6.9358  \n",
       "1       1.1790              6.7975  \n",
       "2       1.1743              6.7307  \n",
       "3       1.1632              6.8283  \n",
       "4       1.1659              6.7855  \n",
       "...        ...                 ...  \n",
       "5694    1.2296             17.9214  \n",
       "5695    1.2271             18.4194  \n",
       "5696    1.2338             18.5123  \n",
       "5697    1.2276             18.7919  \n",
       "5698    1.2250             18.7212  \n",
       "\n",
       "[5699 rows x 41 columns]"
      ]
     },
     "execution_count": 77,
     "metadata": {},
     "output_type": "execute_result"
    }
   ],
   "source": [
    "#Set the date column to datetime format\n",
    "exchange_rates['date']= pd.to_datetime(exchange_rates['date'])\n",
    "exchange_rates.sort_values('date', inplace=True)\n",
    "exchange_rates.reset_index(drop=True, inplace=True)\n",
    "exchange_rates"
   ]
  },
  {
   "cell_type": "code",
   "execution_count": 78,
   "metadata": {},
   "outputs": [
    {
     "name": "stdout",
     "output_type": "stream",
     "text": [
      "<class 'pandas.core.frame.DataFrame'>\n",
      "Int64Index: 5637 entries, 0 to 5698\n",
      "Data columns (total 2 columns):\n",
      " #   Column     Non-Null Count  Dtype         \n",
      "---  ------     --------------  -----         \n",
      " 0   date       5637 non-null   datetime64[ns]\n",
      " 1   us_dollar  5637 non-null   object        \n",
      "dtypes: datetime64[ns](1), object(1)\n",
      "memory usage: 132.1+ KB\n"
     ]
    }
   ],
   "source": [
    "#Consolidate and clean the us_dollar column\n",
    "euro_dollar = exchange_rates.loc[:,['date','us_dollar']]\n",
    "euro_dollar = euro_dollar[euro_dollar['us_dollar'] != '-' ].copy()\n",
    "euro_dollar['us_dollar'].astype('float')\n",
    "euro_dollar.info()"
   ]
  },
  {
   "cell_type": "code",
   "execution_count": 79,
   "metadata": {},
   "outputs": [],
   "source": [
    "#Calculate the rolling mean by setting the rolling window = 90 days (Quarterly)\n",
    "import numpy as np\n",
    "euro_dollar['rolling_mean'] = euro_dollar['us_dollar'].rolling(90).mean()\n",
    "\n",
    "#Calculate the min and max for each year\n",
    "euro_dollar['year'] = euro_dollar['date'].dt.year\n",
    "euro_dollar_min_max = euro_dollar.pivot_table(index = 'year', values = 'rolling_mean', aggfunc=[np.min,np.max])\n",
    "# euro_dollar_min_max = euro_dollar_min_max.reset_index()\n",
    "# euro_dollar_min_max\n",
    "# for each_year in euro_dollar_min_max:\n",
    "#     year_data = euro_dollar[euro_dollar['year']==each_year]\n",
    "#     for each_data in year_data:\n",
    "#         if each_year['amin'] == each_data['rolling_mean']:\n",
    "#             each_year['min_date'] = each_data.date\n",
    "#         if each_year['amax'] == each_data['rolling_mean']:\n",
    "#             each_year['max_date'] = each_data['date']\n",
    "#euro_dollar_min_max.loc[2016:2021,:]"
   ]
  },
  {
   "cell_type": "code",
   "execution_count": 99,
   "metadata": {},
   "outputs": [
    {
     "data": {
      "text/plain": [
       "Timestamp('2017-03-20 00:00:00')"
      ]
     },
     "execution_count": 99,
     "metadata": {},
     "output_type": "execute_result"
    }
   ],
   "source": [
    "#round(euro_dollar_min_max.loc[2016]['amin'],4)\n",
    "#euro_dollar_min_max.index[0]\n",
    "\n",
    "# year_data = euro_dollar[euro_dollar['year']==2016]\n",
    "# year_data \n",
    "#for each_data in year_data:\n",
    "#     if euro_dollar_min_max.loc[each_year]['amin'] == each_data['year']:\n",
    "#         euro_dollar_min_max.loc[each_year]['min_date'] = each_data.date\n",
    "\n",
    "# for i in range(len(euro_dollar_min_max)):\n",
    "#     print(euro_dollar_min_max.index[i])\n",
    "\n",
    "# for  i in range(len(euro_dollar_min_max)):\n",
    "#     euro_dollar_min_max.iloc[i,'amin']\n",
    "# euro_dollar_min_max.iloc[:3]['amin']\n",
    "# for each_id in euro_dollar_min_max['amin']:\n",
    "#     print(each_id)\n",
    "# type(euro_dollar_min_max)\n",
    "#euro_dollar.info()\n",
    "# mini = euro_dollar[(euro_dollar['date'].dt.year==2017)]['rolling_mean'].min()\n",
    "# mini_date = euro_dollar[(euro_dollar['date'].dt.year==2017) & (euro_dollar['rolling_mean']== mini)]['date'].iloc[0]\n",
    "# mini_date"
   ]
  },
  {
   "cell_type": "code",
   "execution_count": 110,
   "metadata": {},
   "outputs": [
    {
     "data": {
      "image/png": "[encoded data removed]",
      "text/plain": [
       "<Figure size 936x360 with 1 Axes>"
      ]
     },
     "metadata": {
      "needs_background": "light"
     },
     "output_type": "display_data"
    }
   ],
   "source": [
    "fig,ax = plt.subplots(figsize = (13,5))\n",
    "euro_dollar = euro_dollar[euro_dollar['date'].dt.year.between(2016,2021)]\n",
    "plt.style.use('seaborn-whitegrid')\n",
    "for each_spine in [\"top\",'bottom','right','left']:\n",
    "    ax.spines[each_spine].set_visible(False)\n",
    "ax.plot(euro_dollar['date'],euro_dollar['rolling_mean'])\n",
    "\n",
    "\n",
    "ax.axvline(x = pd.Timestamp('2020-01-01'), ymin = 0.01, linestyle = 'dashed', alpha = 0.5)\n",
    "ax.tick_params(left=False, bottom = False)\n",
    "\n",
    "\n",
    "plt.show()"
   ]
  },
  {
   "cell_type": "code",
   "execution_count": 111,
   "metadata": {},
   "outputs": [
    {
     "data": {
      "text/html": [
       "<div>\n",
       "<style scoped>\n",
       "    .dataframe tbody tr th:only-of-type {\n",
       "        vertical-align: middle;\n",
       "    }\n",
       "\n",
       "    .dataframe tbody tr th {\n",
       "        vertical-align: top;\n",
       "    }\n",
       "\n",
       "    .dataframe thead th {\n",
       "        text-align: right;\n",
       "    }\n",
       "</style>\n",
       "<table border=\"1\" class=\"dataframe\">\n",
       "  <thead>\n",
       "    <tr style=\"text-align: right;\">\n",
       "      <th></th>\n",
       "      <th>mini</th>\n",
       "      <th>mini_date</th>\n",
       "      <th>maxa</th>\n",
       "      <th>maxa_date</th>\n",
       "    </tr>\n",
       "  </thead>\n",
       "  <tbody>\n",
       "    <tr>\n",
       "      <th>2016</th>\n",
       "      <td>1.089223</td>\n",
       "      <td>2016-03-10 00:00:00</td>\n",
       "      <td>1.125417</td>\n",
       "      <td>2016-07-18 00:00:00</td>\n",
       "    </tr>\n",
       "    <tr>\n",
       "      <th>2017</th>\n",
       "      <td>1.06086</td>\n",
       "      <td>2017-03-20 00:00:00</td>\n",
       "      <td>1.18143</td>\n",
       "      <td>2017-12-29 00:00:00</td>\n",
       "    </tr>\n",
       "    <tr>\n",
       "      <th>2018</th>\n",
       "      <td>1.148458</td>\n",
       "      <td>2018-12-31 00:00:00</td>\n",
       "      <td>1.226248</td>\n",
       "      <td>2018-05-07 00:00:00</td>\n",
       "    </tr>\n",
       "    <tr>\n",
       "      <th>2019</th>\n",
       "      <td>1.105237</td>\n",
       "      <td>2019-12-23 00:00:00</td>\n",
       "      <td>1.148246</td>\n",
       "      <td>2019-01-02 00:00:00</td>\n",
       "    </tr>\n",
       "    <tr>\n",
       "      <th>2020</th>\n",
       "      <td>1.094528</td>\n",
       "      <td>2020-05-28 00:00:00</td>\n",
       "      <td>1.18942</td>\n",
       "      <td>2020-12-31 00:00:00</td>\n",
       "    </tr>\n",
       "  </tbody>\n",
       "</table>\n",
       "</div>"
      ],
      "text/plain": [
       "          mini            mini_date      maxa            maxa_date\n",
       "2016  1.089223  2016-03-10 00:00:00  1.125417  2016-07-18 00:00:00\n",
       "2017   1.06086  2017-03-20 00:00:00   1.18143  2017-12-29 00:00:00\n",
       "2018  1.148458  2018-12-31 00:00:00  1.226248  2018-05-07 00:00:00\n",
       "2019  1.105237  2019-12-23 00:00:00  1.148246  2019-01-02 00:00:00\n",
       "2020  1.094528  2020-05-28 00:00:00   1.18942  2020-12-31 00:00:00"
      ]
     },
     "execution_count": 111,
     "metadata": {},
     "output_type": "execute_result"
    }
   ],
   "source": [
    "df = pd.DataFrame(columns = ['mini','mini_date','maxa','maxa_date'],\n",
    "                  index = [2016,2017,2018,2019,2020])\n",
    "for each_year in df.index:\n",
    "    mini = euro_dollar[(euro_dollar['date'].dt.year==each_year)]['rolling_mean'].min()\n",
    "    mini_date = euro_dollar[(euro_dollar['date'].dt.year==each_year) & (euro_dollar['rolling_mean']== mini)]['date'].iloc[0]\n",
    "    maxa = euro_dollar[(euro_dollar['date'].dt.year==each_year)]['rolling_mean'].max()\n",
    "    maxa_date = euro_dollar[(euro_dollar['date'].dt.year==each_year) & (euro_dollar['rolling_mean']== maxa)]['date'].iloc[0]\n",
    "    df.loc[each_year] = [mini,mini_date,maxa,maxa_date]\n",
    "\n",
    "df"
   ]
  },
  {
   "cell_type": "code",
   "execution_count": 137,
   "metadata": {},
   "outputs": [
    {
     "data": {
      "image/png": "[encoded data removed]",
      "text/plain": [
       "<Figure size 1080x1224 with 6 Axes>"
      ]
     },
     "metadata": {},
     "output_type": "display_data"
    }
   ],
   "source": [
    "fig,((ax1,ax2,ax3,ax4,ax5,ax6)) = plt.subplots(nrows = 6, ncols = 1, figsize = (15,17))\n",
    "ax = [ax1,ax2,ax3,ax4,ax5,ax6]\n",
    "x_dates = ['2015-12-10','2016-12-10','2017-12-10','2018-12-10','2019-12-10','2020-12-10']\n",
    "for each_ax in ax:\n",
    "    for each_spine in [\"top\",'bottom','right','left']:\n",
    "        each_ax.spines[each_spine].set_visible(False)\n",
    "    each_ax.tick_params(left = False, bottom = False, labelbottom = False, labelleft = False)\n",
    "    each_ax.grid(b=None)\n",
    "    each_ax.set_ylabel(None)\n",
    "    each_ax.set_xlabel(None)\n",
    "    each_ax.plot(euro_dollar['date'],euro_dollar['rolling_mean'],alpha = 0.1,color = '#bf00ff')\n",
    "    \n",
    "#     for each_date in x_dates:\n",
    "#         a_date = pd.Timestamp(each_date)\n",
    "#         each_ax.text(x = a_date,y = 1.24,s = str(a_date.year),alpha = 0.2,\n",
    "#                      font = \"fantasy\",size='x-large')\n",
    "\n",
    "\n",
    "\n",
    "start_date = ['2016-01-01','2017-01-01','2018-01-01','2019-01-01','2020-01-01']\n",
    "end_date = ['2016-12-31','2017-12-31','2018-12-31','2019-12-31','2020-12-31']\n",
    "\n",
    "# arrow and box for annotations\n",
    "arrowmin = dict(arrowstyle=\"wedge,tail_width=0.5\", alpha=0.7, color='red')\n",
    "arrowmax = dict(arrowstyle=\"wedge,tail_width=0.5\", alpha=0.7, color='blue')\n",
    "bbox=dict(boxstyle=\"round\", alpha=0.7, color='w')\n",
    "\n",
    "for i,each_ax in zip(range(5),ax[:5]):\n",
    "    timeline = euro_dollar[(euro_dollar['date']>=start_date[i]) & (euro_dollar['date']<=end_date[i])][['date','rolling_mean']]\n",
    "    each_ax.plot(timeline['date'],timeline['rolling_mean'],\n",
    "                 color = '#00ffcc' if i<4 else '#ff3300',linewidth=3.5)\n",
    "    each_ax.axvline(x = pd.Timestamp(start_date[i]), ymax=0.95,\n",
    "                    color = '#ff9900',\n",
    "                    linestyle = 'dashed',\n",
    "                    alpha = 0.5)\n",
    "    each_ax.text(x = pd.Timestamp(x_dates[i]),y = 1.24,\n",
    "                 s = str(pd.Timestamp(start_date[i]).year),\n",
    "                 font = \"fantasy\",\n",
    "                 size='x-large')\n",
    "    each_ax.text(x = pd.Timestamp(x_dates[i+1]),y = 1.24,\n",
    "                 s = str(pd.Timestamp(start_date[i]).year+1),\n",
    "                 font = \"fantasy\",\n",
    "                 size='x-large')\n",
    "    each_ax.axvline(x = pd.Timestamp(end_date[i]), ymax=0.95,\n",
    "                    linestyle = 'dashed',\n",
    "                    color = '#ff9900',\n",
    "                    alpha = 0.5)\n",
    "    \n",
    "    \n",
    "    \n",
    "    each_ax.annotate(text = str(round(df.iloc[i]['mini'],4)), \n",
    "                     xy = (df.iloc[i]['mini_date'],df.iloc[i]['mini']),\n",
    "                     xytext = (df.iloc[i]['mini_date']+pd.Timedelta(90, unit = 'D'), df.iloc[i]['mini']),\n",
    "                     va=\"center\", arrowprops=arrowmin,\n",
    "                     bbox = bbox,size = 13)\n",
    "    \n",
    "    each_ax.annotate(text = str(round(df.iloc[i]['maxa'],4)), \n",
    "                     xy = (df.iloc[i]['maxa_date'],df.iloc[i]['maxa']),\n",
    "                     xytext = (df.iloc[i]['maxa_date']+pd.Timedelta(90, unit = 'D'), df.iloc[i]['maxa']),\n",
    "                     va=\"center\", arrowprops=arrowmax,\n",
    "                     bbox = bbox, size = 13)\n",
    "\n",
    "timeline1 = euro_dollar[(euro_dollar['date']>=start_date[0]) & (euro_dollar['date']<=end_date[4])][['date','rolling_mean']]\n",
    "timeline2 = euro_dollar[(euro_dollar['date']>=start_date[-1]) & (euro_dollar['date']<=end_date[-1])][['date','rolling_mean']]\n",
    "\n",
    "#Pre-Covid plot\n",
    "ax6.plot(timeline1['date'],timeline1['rolling_mean'],\n",
    "             color = '#00ffcc',linewidth=3.5)\n",
    "#Covid Plot\n",
    "ax6.plot(timeline2['date'],timeline2['rolling_mean'],\n",
    "             color = '#ff3300',linewidth=3.5)\n",
    "#2016 v.line    \n",
    "ax6.axvline(x = pd.Timestamp(start_date[0]), ymax=0.95,\n",
    "            color = '#ff9900',\n",
    "            linestyle = 'dashed',\n",
    "            alpha = 0.5)\n",
    "#2016 Text\n",
    "ax6.text(x = pd.Timestamp(x_dates[0]),y = 1.24,\n",
    "         s = '2016',\n",
    "         font = \"fantasy\",\n",
    "         size='x-large',\n",
    "         weight = 'bold')\n",
    "\n",
    "#Pre-Covid\n",
    "ax6.text(x = pd.Timestamp(x_dates[2]),y = 1.24,\n",
    "         s = 'Pre-Covid',\n",
    "         font = 'monospace',\n",
    "         size = 22,\n",
    "         alpha = 0.5)\n",
    "\n",
    "#2020 Text\n",
    "ax6.text(x = pd.Timestamp(x_dates[4]),y = 1.24,\n",
    "         s = '2020',\n",
    "         font = \"fantasy\",\n",
    "         size='x-large',\n",
    "         weight = 'bold')\n",
    "\n",
    "#2020 v.line\n",
    "ax6.axvline(x = pd.Timestamp(end_date[-2]), ymax=0.95,\n",
    "            linestyle = 'dashed',\n",
    "            color = '#ff9900',\n",
    "            alpha = 0.5)\n",
    "\n",
    "#Covid\n",
    "ax6.text(x = pd.Timestamp('2020-5-3'),y = 1.24,\n",
    "         s = 'Covid',\n",
    "         font = 'monospace',\n",
    "         size = 22,\n",
    "         alpha = 0.5)\n",
    "\n",
    "#2021 Text\n",
    "ax6.text(x = pd.Timestamp(x_dates[5]),y = 1.24,\n",
    "         s = '2021',\n",
    "         font = \"fantasy\",\n",
    "         size='x-large',\n",
    "         weight = 'bold')\n",
    "\n",
    "#2021 v.line\n",
    "ax6.axvline(x = pd.Timestamp(end_date[-1]), ymax=0.95,\n",
    "            linestyle = 'dashed',\n",
    "            color = '#ff9900',\n",
    "            alpha = 0.5)\n",
    "#plt.annotate()\n",
    "    \n",
    "plt.tight_layout(pad = 2)\n",
    "plt.show()"
   ]
  },
  {
   "cell_type": "code",
   "execution_count": 191,
   "metadata": {},
   "outputs": [
    {
     "data": {
      "text/plain": [
       "Timestamp('2016-01-05 00:00:00')"
      ]
     },
     "execution_count": 191,
     "metadata": {},
     "output_type": "execute_result"
    }
   ],
   "source": [
    "time2 = euro_dollar[(euro_dollar['date']>='2016-01-01') & (euro_dollar['date']<='2017-12-31')][['date','rolling_mean']]\n",
    "time2.iloc[1]['date']"
   ]
  },
  {
   "cell_type": "code",
   "execution_count": 192,
   "metadata": {},
   "outputs": [
    {
     "data": {
      "text/html": [
       "<div>\n",
       "<style scoped>\n",
       "    .dataframe tbody tr th:only-of-type {\n",
       "        vertical-align: middle;\n",
       "    }\n",
       "\n",
       "    .dataframe tbody tr th {\n",
       "        vertical-align: top;\n",
       "    }\n",
       "\n",
       "    .dataframe thead th {\n",
       "        text-align: right;\n",
       "    }\n",
       "</style>\n",
       "<table border=\"1\" class=\"dataframe\">\n",
       "  <thead>\n",
       "    <tr style=\"text-align: right;\">\n",
       "      <th></th>\n",
       "      <th>date</th>\n",
       "      <th>us_dollar</th>\n",
       "      <th>rolling_mean</th>\n",
       "      <th>year</th>\n",
       "    </tr>\n",
       "  </thead>\n",
       "  <tbody>\n",
       "  </tbody>\n",
       "</table>\n",
       "</div>"
      ],
      "text/plain": [
       "Empty DataFrame\n",
       "Columns: [date, us_dollar, rolling_mean, year]\n",
       "Index: []"
      ]
     },
     "execution_count": 192,
     "metadata": {},
     "output_type": "execute_result"
    }
   ],
   "source": [
    "euro_dollar['rolling_mean'] = euro_dollar.rolling(2).mean()\n",
    "euro_dollar_2000 = euro_dollar[(euro_dollar['date']>='2001-10-5') & (euro_dollar['date']<='2001-11-7')]\n",
    "euro_dollar_2000"
   ]
  },
  {
   "cell_type": "code",
   "execution_count": 193,
   "metadata": {},
   "outputs": [
    {
     "data": {
      "image/png": "[encoded data removed]",
      "text/plain": [
       "<Figure size 864x936 with 6 Axes>"
      ]
     },
     "metadata": {
      "needs_background": "light"
     },
     "output_type": "display_data"
    }
   ],
   "source": [
    "%matplotlib inline\n",
    "import matplotlib.pyplot as plt\n",
    "euro_dollar['rolling_mean'] = euro_dollar.rolling(2).mean()\n",
    "fig,((ax1,ax2,ax3,ax4,ax5,ax6)) = plt.subplots(nrows = 6, \n",
    "                                             ncols = 1, \n",
    "                                             figsize = (12,13))\n",
    "\n",
    "years = ['2000','2004','2008','2012','2016','2020']\n",
    "ax = [ax1,ax2,ax3,ax4,ax5,ax6]\n",
    "\n",
    "for i in range(6):\n",
    "    euro_dollar_year = euro_dollar[(euro_dollar['date']>=(years[i]+'-10-15')) & (euro_dollar['date']<=(years[i]+'-11-15'))]\n",
    "    ax[i].plot(euro_dollar_year['date'],euro_dollar_year['rolling_mean'])\n",
    "    ax[i].tick_params(rotation = 45)\n",
    "\n",
    "fig.tight_layout(pad = 1)\n",
    "plt.show()"
   ]
  },
  {
   "cell_type": "code",
   "execution_count": 194,
   "metadata": {},
   "outputs": [
    {
     "data": {
      "image/png": "[encoded data removed]",
      "text/plain": [
       "<Figure size 432x288 with 1 Axes>"
      ]
     },
     "metadata": {
      "needs_background": "light"
     },
     "output_type": "display_data"
    }
   ],
   "source": [
    "plt.plot(euro_dollar_2000['date'],euro_dollar_2000['rolling_mean'])\n",
    "plt.tick_params(rotation = 45)"
   ]
  },
  {
   "cell_type": "code",
   "execution_count": 195,
   "metadata": {},
   "outputs": [],
   "source": [
    "#Learning:\n",
    "#Setting axvline for time data: http://5.9.10.113/66127918/adding-a-verticle-line-using-axvline-in-matplotlib-based-on-datetime-data\n",
    "#When setting subplots with multiple columns using ax: https://stackoverflow.com/questions/51736396/subplots-in-matplotlib-give-valueerror-not-enough-values-to-unpack"
   ]
  },
  {
   "cell_type": "markdown",
   "metadata": {},
   "source": [
    "[Index](#Index)"
   ]
  },
  {
   "cell_type": "markdown",
   "metadata": {},
   "source": [
    "# 2"
   ]
  },
  {
   "cell_type": "markdown",
   "metadata": {},
   "source": [
    "## Title"
   ]
  },
  {
   "cell_type": "markdown",
   "metadata": {},
   "source": []
  },
  {
   "cell_type": "markdown",
   "metadata": {},
   "source": [
    "Instrusctions\n"
   ]
  },
  {
   "cell_type": "code",
   "execution_count": null,
   "metadata": {},
   "outputs": [],
   "source": []
  },
  {
   "cell_type": "markdown",
   "metadata": {},
   "source": [
    "[Index](#Index)"
   ]
  },
  {
   "cell_type": "markdown",
   "metadata": {},
   "source": [
    "# 3"
   ]
  },
  {
   "cell_type": "markdown",
   "metadata": {},
   "source": [
    "## Title"
   ]
  },
  {
   "cell_type": "markdown",
   "metadata": {},
   "source": []
  },
  {
   "cell_type": "markdown",
   "metadata": {},
   "source": [
    "instructions\n"
   ]
  },
  {
   "cell_type": "code",
   "execution_count": null,
   "metadata": {
    "scrolled": false
   },
   "outputs": [],
   "source": []
  },
  {
   "cell_type": "markdown",
   "metadata": {},
   "source": [
    "[Index](#Index)"
   ]
  },
  {
   "cell_type": "markdown",
   "metadata": {},
   "source": [
    "# 4"
   ]
  },
  {
   "cell_type": "markdown",
   "metadata": {},
   "source": [
    "## Title"
   ]
  },
  {
   "cell_type": "markdown",
   "metadata": {},
   "source": []
  },
  {
   "cell_type": "markdown",
   "metadata": {},
   "source": [
    "instructions\n"
   ]
  },
  {
   "cell_type": "code",
   "execution_count": null,
   "metadata": {
    "scrolled": false
   },
   "outputs": [],
   "source": []
  },
  {
   "cell_type": "markdown",
   "metadata": {},
   "source": [
    "[Index](#Index)"
   ]
  },
  {
   "cell_type": "markdown",
   "metadata": {},
   "source": [
    "# 5"
   ]
  },
  {
   "cell_type": "markdown",
   "metadata": {},
   "source": [
    "## Title"
   ]
  },
  {
   "cell_type": "markdown",
   "metadata": {},
   "source": []
  },
  {
   "cell_type": "markdown",
   "metadata": {},
   "source": [
    "instructions\n"
   ]
  },
  {
   "cell_type": "code",
   "execution_count": null,
   "metadata": {
    "scrolled": false
   },
   "outputs": [],
   "source": []
  },
  {
   "cell_type": "markdown",
   "metadata": {},
   "source": [
    "[Index](#Index)"
   ]
  },
  {
   "cell_type": "markdown",
   "metadata": {},
   "source": [
    "# 6"
   ]
  },
  {
   "cell_type": "markdown",
   "metadata": {},
   "source": [
    "## Title"
   ]
  },
  {
   "cell_type": "markdown",
   "metadata": {},
   "source": []
  },
  {
   "cell_type": "markdown",
   "metadata": {},
   "source": [
    "instructions\n"
   ]
  },
  {
   "cell_type": "code",
   "execution_count": null,
   "metadata": {
    "scrolled": false
   },
   "outputs": [],
   "source": []
  },
  {
   "cell_type": "markdown",
   "metadata": {},
   "source": [
    "[Index](#Index)"
   ]
  },
  {
   "cell_type": "markdown",
   "metadata": {},
   "source": [
    "# 7"
   ]
  },
  {
   "cell_type": "markdown",
   "metadata": {},
   "source": [
    "## Title"
   ]
  },
  {
   "cell_type": "markdown",
   "metadata": {},
   "source": []
  },
  {
   "cell_type": "markdown",
   "metadata": {},
   "source": [
    "instructions\n"
   ]
  },
  {
   "cell_type": "code",
   "execution_count": null,
   "metadata": {
    "scrolled": false
   },
   "outputs": [],
   "source": []
  },
  {
   "cell_type": "markdown",
   "metadata": {},
   "source": [
    "[Index](#Index)"
   ]
  },
  {
   "cell_type": "markdown",
   "metadata": {},
   "source": [
    "# 8"
   ]
  },
  {
   "cell_type": "markdown",
   "metadata": {},
   "source": [
    "## Title"
   ]
  },
  {
   "cell_type": "markdown",
   "metadata": {},
   "source": []
  },
  {
   "cell_type": "markdown",
   "metadata": {},
   "source": [
    "instructions\n"
   ]
  },
  {
   "cell_type": "code",
   "execution_count": null,
   "metadata": {
    "scrolled": false
   },
   "outputs": [],
   "source": []
  },
  {
   "cell_type": "markdown",
   "metadata": {},
   "source": [
    "[Index](#Index)"
   ]
  },
  {
   "cell_type": "markdown",
   "metadata": {},
   "source": [
    "# 9"
   ]
  },
  {
   "cell_type": "markdown",
   "metadata": {},
   "source": [
    "## Title"
   ]
  },
  {
   "cell_type": "markdown",
   "metadata": {},
   "source": []
  },
  {
   "cell_type": "markdown",
   "metadata": {},
   "source": [
    "instructions\n"
   ]
  },
  {
   "cell_type": "code",
   "execution_count": null,
   "metadata": {
    "scrolled": false
   },
   "outputs": [],
   "source": []
  },
  {
   "cell_type": "markdown",
   "metadata": {},
   "source": [
    "[Index](#Index)"
   ]
  },
  {
   "cell_type": "markdown",
   "metadata": {},
   "source": [
    "# 10"
   ]
  },
  {
   "cell_type": "markdown",
   "metadata": {},
   "source": [
    "## Title"
   ]
  },
  {
   "cell_type": "markdown",
   "metadata": {},
   "source": []
  },
  {
   "cell_type": "markdown",
   "metadata": {},
   "source": [
    "instructions\n"
   ]
  },
  {
   "cell_type": "code",
   "execution_count": null,
   "metadata": {
    "scrolled": false
   },
   "outputs": [],
   "source": []
  },
  {
   "cell_type": "markdown",
   "metadata": {},
   "source": [
    "[Index](#Index)"
   ]
  },
  {
   "cell_type": "markdown",
   "metadata": {},
   "source": [
    "# 11"
   ]
  },
  {
   "cell_type": "markdown",
   "metadata": {},
   "source": [
    "## Title"
   ]
  },
  {
   "cell_type": "markdown",
   "metadata": {},
   "source": []
  },
  {
   "cell_type": "markdown",
   "metadata": {},
   "source": [
    "instructions\n"
   ]
  },
  {
   "cell_type": "code",
   "execution_count": null,
   "metadata": {
    "scrolled": false
   },
   "outputs": [],
   "source": []
  },
  {
   "cell_type": "markdown",
   "metadata": {},
   "source": [
    "[Index](#Index)"
   ]
  },
  {
   "cell_type": "markdown",
   "metadata": {},
   "source": [
    "# 12"
   ]
  },
  {
   "cell_type": "markdown",
   "metadata": {},
   "source": [
    "## Title"
   ]
  },
  {
   "cell_type": "markdown",
   "metadata": {},
   "source": []
  },
  {
   "cell_type": "markdown",
   "metadata": {},
   "source": [
    "instructions\n"
   ]
  },
  {
   "cell_type": "code",
   "execution_count": null,
   "metadata": {
    "scrolled": false
   },
   "outputs": [],
   "source": []
  },
  {
   "cell_type": "markdown",
   "metadata": {},
   "source": [
    "[Index](#Index)"
   ]
  },
  {
   "cell_type": "markdown",
   "metadata": {},
   "source": [
    "# 13"
   ]
  },
  {
   "cell_type": "markdown",
   "metadata": {},
   "source": [
    "## Title"
   ]
  },
  {
   "cell_type": "markdown",
   "metadata": {},
   "source": []
  },
  {
   "cell_type": "markdown",
   "metadata": {},
   "source": [
    "instructions\n"
   ]
  },
  {
   "cell_type": "code",
   "execution_count": null,
   "metadata": {
    "scrolled": false
   },
   "outputs": [],
   "source": []
  },
  {
   "cell_type": "markdown",
   "metadata": {},
   "source": [
    "[Index](#Index)"
   ]
  },
  {
   "cell_type": "code",
   "execution_count": null,
   "metadata": {},
   "outputs": [],
   "source": []
  }
 ],
 "metadata": {
  "kernelspec": {
   "display_name": "Python 3",
   "language": "python",
   "name": "python3"
  },
  "language_info": {
   "codemirror_mode": {
    "name": "ipython",
    "version": 3
   },
   "file_extension": ".py",
   "mimetype": "text/x-python",
   "name": "python",
   "nbconvert_exporter": "python",
   "pygments_lexer": "ipython3",
   "version": "3.8.8"
  }
 },
 "nbformat": 4,
 "nbformat_minor": 2
}
